{
 "cells": [
  {
   "cell_type": "code",
   "execution_count": 5,
   "metadata": {},
   "outputs": [],
   "source": [
    "import os\n",
    "from PIL import Image"
   ]
  },
  {
   "cell_type": "code",
   "execution_count": 7,
   "metadata": {},
   "outputs": [
    {
     "data": {
      "text/plain": [
       "['anders-jilden-uwbajDCODj4-unsplash.jpg',\n",
       " 'bob-brewer-zJF1lRdUdAw-unsplash.jpg',\n",
       " 'buzz-andersen-E4944K_4SvI-unsplash.jpg',\n",
       " 'christian-joudrey-u_nsiSvPEak-unsplash.jpg',\n",
       " 'geranimo-qzgN45hseN0-unsplash.jpg',\n",
       " 'johannes-plenio-DKix6Un55mw-unsplash.jpg',\n",
       " 'josh-rakower-zBsXaPEBSeI-unsplash.jpg',\n",
       " 'kimon-maritz-1-ISIwuBMiw-unsplash.jpg',\n",
       " 'morais-G-bQlVMt1H8-unsplash.jpg',\n",
       " 'nasa--hI5dX2ObAs-unsplash.jpg',\n",
       " 'patrick-hendry-jd0hS7Vhn_A-unsplash.jpg',\n",
       " 'pawan-sharma-n1jB9kcXbpg-unsplash.jpg',\n",
       " 'robert-lukeman-zNN6ubHmruI-unsplash.jpg']"
      ]
     },
     "execution_count": 7,
     "metadata": {},
     "output_type": "execute_result"
    }
   ],
   "source": [
    "images = os.listdir()\n",
    "images.remove('image_list.ipynb')\n",
    "images"
   ]
  },
  {
   "cell_type": "code",
   "execution_count": 8,
   "metadata": {},
   "outputs": [],
   "source": [
    "for image in images:\n",
    "  image_open = Image.open(image)\n",
    "  img_resized = image_open.resize((500, 400))\n",
    "  img_resized.save(f'{image}')"
   ]
  }
 ],
 "metadata": {
  "kernelspec": {
   "display_name": "Python 3",
   "language": "python",
   "name": "python3"
  },
  "language_info": {
   "codemirror_mode": {
    "name": "ipython",
    "version": 3
   },
   "file_extension": ".py",
   "mimetype": "text/x-python",
   "name": "python",
   "nbconvert_exporter": "python",
   "pygments_lexer": "ipython3",
   "version": "3.12.2"
  }
 },
 "nbformat": 4,
 "nbformat_minor": 2
}
